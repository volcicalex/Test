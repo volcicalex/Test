{
 "cells": [
  {
   "cell_type": "markdown",
   "metadata": {},
   "source": [
    "<h1 style=\"text-align: center; font-size: 3em\">Monte Carlo</h1>"
   ]
  },
  {
   "cell_type": "markdown",
   "metadata": {},
   "source": [
    "<h1>Menu</h1>\n",
    "<ul style=\"list-style-type: none\">\n",
    "    <li>\n",
    "        <a href=\"#montecarlo\" style=\"text-decoration: none\">1. Monte Carlo</a>\n",
    "    </li>\n",
    "    <li>\n",
    "        <a href=\"#bs\" style=\"text-decoration: none\">2. Example of the Black-Scholes distribution</a>\n",
    "        <ul style=\"list-style-type: none\">\n",
    "            <li>\n",
    "                <a href=\"#bs.diffusion\" style=\"text-decoration: none\">2.1. Distribution of a future contract</a>\n",
    "            </li>\n",
    "            <li>\n",
    "                <a href=\"#bs.m_indices\" style=\"text-decoration: none\">2.2. Distribution of a future contract for several indices</a>\n",
    "            </li>\n",
    "            <li>\n",
    "                <a href=\"#bs.vectorisation\" style=\"text-decoration: none\">2.3. Computation vectorization</a>\n",
    "            </li>\n",
    "            <li>\n",
    "                <a href=\"#bs.vectorisation_m_indices\" style=\"text-decoration: none\">2.4. Distribution of several futures contracts for several indices</a>\n",
    "            </li>\n",
    "        </ul>\n",
    "    </li>\n",
    "</ul>"
   ]
  },
  {
   "cell_type": "markdown",
   "metadata": {},
   "source": [
    "<a id=\"montecarlo\" style=\"text-decoration: none; color: black; font-size: 2em\">1. Monte Carlo</a>"
   ]
  },
  {
   "cell_type": "markdown",
   "metadata": {},
   "source": [
    "Unique MonteCarlo class that takes as an entry:\n",
    "\n",
    "<ul>\n",
    "    <li>A dynamic (Black Scholes, Merton, Bachelor...)</li>\n",
    "    <li>An option (Simple option, Basket option, Asian option...)</li>\n",
    "    <li>A number of simulations</li>\n",
    "</ul>\n",
    "This class contains a single function: $values$, which returns the $price$, $delta$ and $gamma$ of any option with any dynamic. \n",
    "\n",
    "In addition, for each value, a half confidence interval at $95\\%$ is calculated to ensure their accuracy."
   ]
  },
  {
   "cell_type": "markdown",
   "metadata": {},
   "source": [
    "```python\n",
    "def values(self, fd1, fd2, relative=True):\n",
    "\n",
    "    prix, prix_2 = 0, 0\n",
    "    delta, delta_2 = np.zeros(self.dynamic.size_), np.zeros(self.dynamic.size_)\n",
    "    gamma, gamma_2 = np.zeros(self.dynamic.size_), np.zeros(self.dynamic.size_)\n",
    "\n",
    "    for i in range(self.nb_samples):\n",
    "        path = self.dynamic.path()  # Path simulation\n",
    "        payoff = self.option.payoff(path)  # The option must have a payoff method\n",
    "        prix += payoff\n",
    "        prix_2 += payoff * payoff\n",
    "\n",
    "        for d in range(self.dynamic.size_):\n",
    "\n",
    "            # Path shifting\n",
    "            increment_path = self.dynamic.shift_price(path, d, fd1)\n",
    "            decrement_path = self.dynamic.shift_price(path, d, fd2)\n",
    "\n",
    "            # Payoff for shifted path\n",
    "            increment_payoff = self.option.payoff(increment_path)\n",
    "            decrement_payoff = self.option.payoff(decrement_path)\n",
    "\n",
    "            delta_payoff = increment_payoff - decrement_payoff\n",
    "            delta[d] += delta_payoff\n",
    "            delta_2[d] += delta_payoff * delta_payoff\n",
    "\n",
    "            gamma_payoff = increment_payoff + decrement_payoff - 2 * payoff\n",
    "            gamma[d] += gamma_payoff\n",
    "            gamma_2[d] += gamma_payoff * gamma_payoff\n",
    "\n",
    "    delta_coeffs = [fd1 - fd2]\n",
    "    gamma_coeffs = [((fd1 - fd2) * 0.5) ** 2]\n",
    "\n",
    "    if relative:\n",
    "        delta_coeffs *= (self.dynamic.basket.price() / self.dynamic.basket.weights)\n",
    "        gamma_coeffs *= (self.dynamic.basket.price() / self.dynamic.basket.weights) ** 2\n",
    "\n",
    "    return MCResults(self.value_and_ic(prix, prix_2), self.values_and_ics(delta, delta_2, delta_coeffs),\n",
    "                     self.values_and_ics(gamma, gamma_2, gamma_coeffs))\n",
    "```"
   ]
  },
  {
   "cell_type": "markdown",
   "metadata": {},
   "source": [
    "<a id=\"bs\" style=\"text-decoration: none; color: black; font-size: 2em\">2. Example of the Black-Scholes distribution</a>"
   ]
  },
  {
   "cell_type": "markdown",
   "metadata": {},
   "source": [
    "<a id=\"bs.diffusion\" style=\"text-decoration: none; color: black; font-size: 2em; margin-left: 50px\">2.1. Distribution of a future contract</a>"
   ]
  },
  {
   "cell_type": "markdown",
   "metadata": {},
   "source": [
    "The valuation of an underlying future contract by the Black-Scholes model is described as follows: \n",
    "\n",
    "$$F_t = F_{0} e^{-\\sigma^2/2 + \\sigma B_t}$$\n",
    "\n",
    "where $B$ is a standard Brownian motion and $\\sigma > 0$ is the volatility of the underlying.\n",
    "\n",
    "We can therefore discretise the problem on the grid $t_0, t_1, ..., t_n$ as follows:\n",
    "\n",
    "$$F_{t_{i+1}} = F_{t_i} and^{-(t_{i+1} - t_i) \\sigma^2/2 + \\sigma \\sqrt{t_{i+1} - t_i} G_{i+1}}$$\n",
    "\n",
    "with $(G_i)_{i \\geqslant 1}$ a sequence of random numbers of normal law."
   ]
  },
  {
   "cell_type": "markdown",
   "metadata": {},
   "source": [
    "<h3>Evaluation de l'option"
   ]
  },
  {
   "cell_type": "markdown",
   "metadata": {},
   "source": [
    "<ul style=\"list-style-type: none\">\n",
    "    <li>$\\phi$: Option payoff</li>\n",
    "    <li>$T$: Option maturity</li>\n",
    "    <li>$M$: Number of Monte Carlo simulations</li>\n",
    "    <li>$F_0$: Price of the underlying future at 0.</li>\n",
    "    <li>$F$: Vector of the simulated path. </li>\n",
    "    <li>$df$: Discount factor between 0 and T (i.e. $e^{-rT}$)</li>\n",
    "</ul>\n",
    "\n",
    "An option on a single underlying futures contract produces the following values:\n",
    "$$\\left \\{\n",
    "    \\begin{array}{r c l}\n",
    "        P_0 & = & df \\frac{\\phi(F)}{M} \\\\\\ \n",
    "        \\Delta & = & \\frac{\\phi((1+h)F) - \\phi((1-h)F)}{2 M F_0 h} \\\\\n",
    "        \\Gamma & = & df \\frac{\\phi((1+h)F) + \\phi((1-h)F) - 2 \\phi(F)}{M F_0^2 h}\n",
    "    \\end{array}\n",
    "\\right.$$"
   ]
  },
  {
   "cell_type": "markdown",
   "metadata": {},
   "source": [
    "<a id=\"bs.m_indices\" style=\"text-decoration: none; color: black; font-size: 2em; margin-left: 50px\">2.2. Distribution of a future contract for several indices</a>"
   ]
  },
  {
   "cell_type": "markdown",
   "metadata": {},
   "source": [
    "Consider m assets, each evolving according to a Black Scholes model of dimension 1 and correlated with each other. \n",
    "The dynamic F of these m assets is written:\n",
    "\n",
    "$$F_{t, d} = F_{0, d} e^{-\\sigma_d^2/2 + \\sigma_d B_{t,d}}$$\n",
    "\n",
    "where $B = (B_1, ..., ..., B_m)^T$ a vector of correlated standard Brownian motions.\n",
    "\n",
    "Let the sequence $W = (W_1, ..., W_d)^T$, then we have equality in law $(B_t)_{t \\geqslant 0} = (L.W_t)_{t \\geqslant 0}$\n",
    "where L is the Cholesky factor of the correlation matrix (which must be positively defined). \n",
    "\n",
    "The equation can then be rewritten as follows:\n",
    "$$F_{t, d} = F_{0, d} e^{-\\sigma_d^2/2 + \\sigma_d L_d W_t}$$$\n",
    "\n",
    "where $L_d$ is the line d of the matrix L.\n",
    "\n",
    "We can therefore deduce the following discretized equation:\n",
    "\n",
    "$$F_{t_{i+1}, d} = F_{t_i, d} e^{-(t_{i+1} - t_i) \\sigma_d^2/2 + \\sigma_d \\sqrt{t_{i+1} - t_i} L_d G_{i+1}} $$\n",
    "\n",
    "with $(G_i)_{i \\geqslant 1}$ a sequence of Gaussian vectors."
   ]
  },
  {
   "cell_type": "markdown",
   "metadata": {},
   "source": [
    "<h3>Option valuation"
   ]
  },
  {
   "cell_type": "markdown",
   "metadata": {},
   "source": [
    "<ul style=\"list-style-type: none\">\n",
    "    <li>$n$: Number of discretization steps</li>\n",
    "    <li>$m$: Number of indices</li>\n",
    "    <li>$w_d$: Weight of the underlying d in the basket</li>\n",
    "    <li>$F_{0, d}$: Price of the underlying future d at time 0</li>\n",
    "    <li>$F$: Matrix of the simulated path. $(n+1, m)$</li>\n",
    "    <li>$fd(d, h) = \\begin{pmatrix} 1 & 0 & 0 \\\\\\ 0 & 1 + h & 0 \\\\ 0 & 0 & 1 \\end{pmatrix}$ relative bump of h for index d</li>\n",
    "</ul>\n",
    "\n",
    "An option on m indices each with an underlying futures contract produces the following values:\n",
    "$$\\left \\{\n",
    "    \\begin{array}{r c l}\n",
    "        P_0 & = & df \\frac{\\phi(F)}{M} \\\\\\ \n",
    "        \\Delta_d & = & \\frac{\\phi(F.fd(d, h)) - \\phi(F.fd(d, -h))}{2MF_{0, d}h} \\Rightarrow\n",
    "        \\Delta = \\sum_{d=1}^{m} w_d \\Delta_d\\\\\n",
    "        \\Gamma_d & = & df \\frac{\\phi(F.fd(d, h)) + \\phi(F.fd(d, -h)) - 2 \\phi(F)}{M F_{0, d}^2 h} \\Rightarrow  \n",
    "        \\Gamma = \\sum_{d=1}^{m} w_d \\Gamma_d\n",
    "    \\end{array}\n",
    "\\right. $$."
   ]
  },
  {
   "cell_type": "markdown",
   "metadata": {},
   "source": [
    "<a id=\"bs.vectorisation\" style=\"text-decoration: none; color: black; font-size: 2em; margin-left: 50px\">2.3. Computation vectorization</a>"
   ]
  },
  {
   "cell_type": "markdown",
   "metadata": {},
   "source": [
    "The python language is not as powerful as C or C++ languages, so use the numpy library written in C significantly reduces the calculation time.\n",
    "\n",
    "<ul style=\"list-style-type: none\">\n",
    "    <li>$w$: Weight vector</li>\n",
    "    <li>$F_0$: Future price vector at the horizon date $(m,)$</li>\n",
    "    <li>$\\sigma$: Contract volatility vector $(m,)$</li>\n",
    "    <li>$Ts$: Discretization vector $(n+1, )$</li>\n",
    "    <li>$L$: Cholesky matrix derived from the correlation matrix between the $(m, m)$</li> indices\n",
    "    <li>$G$: Normal random number matrix $(m, n+1)$</li>\n",
    "    <li>$\\sum$: $\\begin{pmatrix}\n",
    "        0 & 1 & 1 \\\\\n",
    "        0 & 0 & 1 \\\\\n",
    "        0 & 0 & 0\n",
    "        \\end{pmatrix}$ size $(n+1, n+1)$</li>\n",
    "    <li>. Matrix product</li>\n",
    "    <li>$\\times$: Term to term product</li>\n",
    "    <li>$⊗$: Tensor product</li>\n",
    "</ul>\n",
    "\n",
    "F the simulated path matrix for $m$ number of indices and $n$ number of simulation steps is written:\n",
    "$$F = F_0 \\times e^{(-0.5 \\sigma^2 ⊗ Ts + (\\sigma ⊗ \\sqrt{Ts}) \\times (L.G))$$\n",
    "\n",
    "Allowing us to write the price, delta and gamma by index:\n",
    "$$\\left \\{\n",
    "    \\begin{array}{r c l}\n",
    "        P & = & \\frac{\\phi(F)}{M} \\\\\\ \n",
    "        \\Delta_d & = & \\frac{\\phi(fd(d, h).F) - \\phi(fd(d, -h).F)}{2MF_{0, d}h} \\\\\n",
    "        \\Gamma_d & = & \\frac{\\phi(fd(d, h).F) + \\phi(fd(d, -h).F) - 2 \\phi(F)}{M F_{0, d}^2 h}\n",
    "    \\end{array}\n",
    "\\right. $$."
   ]
  },
  {
   "cell_type": "markdown",
   "metadata": {},
   "source": [
    "<a id=\"bs.vectorisation_m_indices\" style=\"text-decoration: none; color: black; font-size: 2em; margin-left: 50px\">2.4. Distribution of several futures contracts for several indices</a>"
   ]
  },
  {
   "cell_type": "markdown",
   "metadata": {},
   "source": [
    "However, since the commodities market is affected by futures contracts, the valuation of an Asian option \n",
    "on future is different from an Asian option on spot. Indeed, to estimate an Asian option on \n",
    "future, all future contracts must be diffused between the horizon date (e. g. 16/03/19) and the date \n",
    "of observation (e. g. 01/04/19). We can therefore potentially have m indices that each have p futures contracts and \n",
    "want to distribute them on the basis of $n$ discretization steps.\n",
    "\n",
    "<ul style=\"list-style-type: none\">\n",
    "    <li>$m$: Number of indices</li>\n",
    "    <li>$p$: Number of futures contracts</li>\n",
    "    <li>$n$: Number of discretization steps</li>\n",
    "    <li>$F_0$: Matrix of future prices at the horizon $(p, m)$</li>\n",
    "    <li>$\\sigma$: Contract volatility vector $(p, m)$</li>\n",
    "    <li>$Ts$: Matrix of discretization steps $(n)$</li>\n",
    "    <li>$L$: Cholesky matrix derived from the correlation matrix between the $(m, m)$</li> indices\n",
    "    <li>$G$: Normal random number matrix $(m, n)$</li>\n",
    "    <li>$\\sum$: $\\begin{pmatrix}\n",
    "        0 & 1 & 1 \\\\\n",
    "        0 & 0 & 1 \\\\\n",
    "        0 & 0 & 0\n",
    "        \\end{pmatrix}$ size $(n+1, n+1)$</li>\n",
    "    <li>. Matrix product</li>\n",
    "    <li>$\\times$: Term term product</li>\n",
    "    <li>$⊗$: Tensor product</li>\n",
    "</ul>\n",
    "\n",
    "F the simulated path matrix for $p$ futures contract, $m$ indices and $n$ simulation steps is written:\n",
    "$$F = F_0 ⊗ e^{(-0.5 \\sigma^2 ⊗ Ts + (\\sigma ⊗ \\sqrt{Ts}) \\times (L.G)). \\sum}$$\n",
    "\n",
    "Allowing us to write the price, delta and gamma by index:\n",
    "$$\\left \\{\n",
    "    \\begin{array}{r c l}\n",
    "        P & = & \\frac{\\phi(F)}{M} \\\\\\ \n",
    "        \\Delta_d & = & \\frac{\\phi(fd(d, h) ⊗ F) - \\phi(fd(d, -h) ⊗ F)}{2MF_{0, d}h} \\\\\n",
    "        \\Gamma_d & = & \\frac{\\phi(fd(d, h) ⊗ F) + \\phi(fd(d, -h) ⊗ F) - 2 \\phi(F)}{M F_{0, d}^2 h}\n",
    "    \\end{array}\n",
    "\\right. $$."
   ]
  },
  {
   "cell_type": "code",
   "execution_count": null,
   "metadata": {},
   "outputs": [],
   "source": []
  }
 ],
 "metadata": {
  "kernelspec": {
   "display_name": "Python 3",
   "language": "python",
   "name": "python3"
  },
  "language_info": {
   "codemirror_mode": {
    "name": "ipython",
    "version": 3
   },
   "file_extension": ".py",
   "mimetype": "text/x-python",
   "name": "python",
   "nbconvert_exporter": "python",
   "pygments_lexer": "ipython3",
   "version": "3.7.3"
  }
 },
 "nbformat": 4,
 "nbformat_minor": 2
}
